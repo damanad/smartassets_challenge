{
 "cells": [
  {
   "cell_type": "markdown",
   "id": "990e717a-74e9-4ade-bba8-adae9acf1970",
   "metadata": {},
   "source": [
    "# Effectiveness prediction"
   ]
  },
  {
   "cell_type": "code",
   "execution_count": 3,
   "id": "0469b85a-4766-4589-beb5-a04270254878",
   "metadata": {},
   "outputs": [],
   "source": [
    "import pandas as pd\n",
    "import json\n",
    "import random\n",
    "import numpy as np"
   ]
  },
  {
   "cell_type": "code",
   "execution_count": 25,
   "id": "bab6c454-5ea2-4c51-b953-95c71463d1ba",
   "metadata": {},
   "outputs": [],
   "source": [
    "creative_data = pd.read_csv('./data/creative_data.csv')"
   ]
  },
  {
   "cell_type": "code",
   "execution_count": 8,
   "id": "8fee9a9d-3e16-4550-8bba-59a53df84c37",
   "metadata": {},
   "outputs": [],
   "source": [
    "creative_features = pd.read_csv('./data/features/classical_creative_features.csv')"
   ]
  },
  {
   "cell_type": "code",
   "execution_count": 6,
   "id": "415adf19-f80a-4052-9011-43ca90657b94",
   "metadata": {},
   "outputs": [
    {
     "data": {
      "text/html": [
       "<div>\n",
       "<style scoped>\n",
       "    .dataframe tbody tr th:only-of-type {\n",
       "        vertical-align: middle;\n",
       "    }\n",
       "\n",
       "    .dataframe tbody tr th {\n",
       "        vertical-align: top;\n",
       "    }\n",
       "\n",
       "    .dataframe thead th {\n",
       "        text-align: right;\n",
       "    }\n",
       "</style>\n",
       "<table border=\"1\" class=\"dataframe\">\n",
       "  <thead>\n",
       "    <tr style=\"text-align: right;\">\n",
       "      <th></th>\n",
       "      <th>creative_id</th>\n",
       "      <th>no_of_days</th>\n",
       "      <th>impressions</th>\n",
       "      <th>clicks</th>\n",
       "      <th>campaign_counts</th>\n",
       "      <th>no_of_days_min</th>\n",
       "      <th>impressions_min</th>\n",
       "      <th>clicks_min</th>\n",
       "      <th>no_of_days_max</th>\n",
       "      <th>impressions_max</th>\n",
       "      <th>...</th>\n",
       "      <th>week_day</th>\n",
       "      <th>no_of_week_end</th>\n",
       "      <th>Display_days</th>\n",
       "      <th>Mobile_days</th>\n",
       "      <th>Search_days</th>\n",
       "      <th>Social_days</th>\n",
       "      <th>Video_days</th>\n",
       "      <th>country</th>\n",
       "      <th>ctir</th>\n",
       "      <th>effectiveness_category</th>\n",
       "    </tr>\n",
       "  </thead>\n",
       "  <tbody>\n",
       "    <tr>\n",
       "      <th>0</th>\n",
       "      <td>1000</td>\n",
       "      <td>45</td>\n",
       "      <td>9471</td>\n",
       "      <td>152</td>\n",
       "      <td>5</td>\n",
       "      <td>7</td>\n",
       "      <td>837</td>\n",
       "      <td>8</td>\n",
       "      <td>11</td>\n",
       "      <td>2634</td>\n",
       "      <td>...</td>\n",
       "      <td>38</td>\n",
       "      <td>7</td>\n",
       "      <td>0</td>\n",
       "      <td>18</td>\n",
       "      <td>0</td>\n",
       "      <td>17</td>\n",
       "      <td>10</td>\n",
       "      <td>Singapore</td>\n",
       "      <td>1.604899</td>\n",
       "      <td>above_med</td>\n",
       "    </tr>\n",
       "    <tr>\n",
       "      <th>1</th>\n",
       "      <td>1005</td>\n",
       "      <td>5643</td>\n",
       "      <td>52011</td>\n",
       "      <td>638</td>\n",
       "      <td>66</td>\n",
       "      <td>53</td>\n",
       "      <td>524</td>\n",
       "      <td>2</td>\n",
       "      <td>118</td>\n",
       "      <td>2919</td>\n",
       "      <td>...</td>\n",
       "      <td>4869</td>\n",
       "      <td>774</td>\n",
       "      <td>1236</td>\n",
       "      <td>936</td>\n",
       "      <td>1913</td>\n",
       "      <td>826</td>\n",
       "      <td>732</td>\n",
       "      <td>US</td>\n",
       "      <td>1.226664</td>\n",
       "      <td>below_med</td>\n",
       "    </tr>\n",
       "    <tr>\n",
       "      <th>2</th>\n",
       "      <td>1010</td>\n",
       "      <td>5643</td>\n",
       "      <td>38026</td>\n",
       "      <td>519</td>\n",
       "      <td>66</td>\n",
       "      <td>53</td>\n",
       "      <td>514</td>\n",
       "      <td>2</td>\n",
       "      <td>118</td>\n",
       "      <td>787</td>\n",
       "      <td>...</td>\n",
       "      <td>4869</td>\n",
       "      <td>774</td>\n",
       "      <td>814</td>\n",
       "      <td>1354</td>\n",
       "      <td>1182</td>\n",
       "      <td>1193</td>\n",
       "      <td>1100</td>\n",
       "      <td>US</td>\n",
       "      <td>1.364856</td>\n",
       "      <td>above_med</td>\n",
       "    </tr>\n",
       "    <tr>\n",
       "      <th>3</th>\n",
       "      <td>1015</td>\n",
       "      <td>5643</td>\n",
       "      <td>48051</td>\n",
       "      <td>629</td>\n",
       "      <td>66</td>\n",
       "      <td>53</td>\n",
       "      <td>546</td>\n",
       "      <td>2</td>\n",
       "      <td>118</td>\n",
       "      <td>1653</td>\n",
       "      <td>...</td>\n",
       "      <td>4869</td>\n",
       "      <td>774</td>\n",
       "      <td>682</td>\n",
       "      <td>816</td>\n",
       "      <td>1417</td>\n",
       "      <td>1547</td>\n",
       "      <td>1181</td>\n",
       "      <td>US</td>\n",
       "      <td>1.309026</td>\n",
       "      <td>below_med</td>\n",
       "    </tr>\n",
       "    <tr>\n",
       "      <th>4</th>\n",
       "      <td>1020</td>\n",
       "      <td>5643</td>\n",
       "      <td>38519</td>\n",
       "      <td>512</td>\n",
       "      <td>66</td>\n",
       "      <td>53</td>\n",
       "      <td>514</td>\n",
       "      <td>3</td>\n",
       "      <td>118</td>\n",
       "      <td>878</td>\n",
       "      <td>...</td>\n",
       "      <td>4869</td>\n",
       "      <td>774</td>\n",
       "      <td>1198</td>\n",
       "      <td>1260</td>\n",
       "      <td>1109</td>\n",
       "      <td>985</td>\n",
       "      <td>1091</td>\n",
       "      <td>US</td>\n",
       "      <td>1.329214</td>\n",
       "      <td>above_med</td>\n",
       "    </tr>\n",
       "  </tbody>\n",
       "</table>\n",
       "<p>5 rows × 21 columns</p>\n",
       "</div>"
      ],
      "text/plain": [
       "   creative_id  no_of_days  impressions  clicks  campaign_counts  \\\n",
       "0         1000          45         9471     152                5   \n",
       "1         1005        5643        52011     638               66   \n",
       "2         1010        5643        38026     519               66   \n",
       "3         1015        5643        48051     629               66   \n",
       "4         1020        5643        38519     512               66   \n",
       "\n",
       "   no_of_days_min  impressions_min  clicks_min  no_of_days_max  \\\n",
       "0               7              837           8              11   \n",
       "1              53              524           2             118   \n",
       "2              53              514           2             118   \n",
       "3              53              546           2             118   \n",
       "4              53              514           3             118   \n",
       "\n",
       "   impressions_max  ...  week_day  no_of_week_end  Display_days  Mobile_days  \\\n",
       "0             2634  ...        38               7             0           18   \n",
       "1             2919  ...      4869             774          1236          936   \n",
       "2              787  ...      4869             774           814         1354   \n",
       "3             1653  ...      4869             774           682          816   \n",
       "4              878  ...      4869             774          1198         1260   \n",
       "\n",
       "   Search_days  Social_days  Video_days    country      ctir  \\\n",
       "0            0           17          10  Singapore  1.604899   \n",
       "1         1913          826         732         US  1.226664   \n",
       "2         1182         1193        1100         US  1.364856   \n",
       "3         1417         1547        1181         US  1.309026   \n",
       "4         1109          985        1091         US  1.329214   \n",
       "\n",
       "   effectiveness_category  \n",
       "0               above_med  \n",
       "1               below_med  \n",
       "2               above_med  \n",
       "3               below_med  \n",
       "4               above_med  \n",
       "\n",
       "[5 rows x 21 columns]"
      ]
     },
     "execution_count": 6,
     "metadata": {},
     "output_type": "execute_result"
    }
   ],
   "source": [
    "creative_data.head()"
   ]
  },
  {
   "cell_type": "code",
   "execution_count": 9,
   "id": "ab28061b-d00f-4de5-9c2b-e1244e66269f",
   "metadata": {},
   "outputs": [
    {
     "data": {
      "text/html": [
       "<div>\n",
       "<style scoped>\n",
       "    .dataframe tbody tr th:only-of-type {\n",
       "        vertical-align: middle;\n",
       "    }\n",
       "\n",
       "    .dataframe tbody tr th {\n",
       "        vertical-align: top;\n",
       "    }\n",
       "\n",
       "    .dataframe thead th {\n",
       "        text-align: right;\n",
       "    }\n",
       "</style>\n",
       "<table border=\"1\" class=\"dataframe\">\n",
       "  <thead>\n",
       "    <tr style=\"text-align: right;\">\n",
       "      <th></th>\n",
       "      <th>creative_id</th>\n",
       "      <th>aspect_ratio</th>\n",
       "      <th>color</th>\n",
       "      <th>read_mean</th>\n",
       "      <th>green_mean</th>\n",
       "      <th>blue_mean</th>\n",
       "      <th>red_std</th>\n",
       "      <th>green_std</th>\n",
       "      <th>blue_std</th>\n",
       "      <th>brightness</th>\n",
       "      <th>...</th>\n",
       "      <th>blue_dom_color7</th>\n",
       "      <th>weight_dom_color7</th>\n",
       "      <th>red_dom_color8</th>\n",
       "      <th>green_dom_color8</th>\n",
       "      <th>blue_dom_color8</th>\n",
       "      <th>weight_dom_color8</th>\n",
       "      <th>red_dom_color9</th>\n",
       "      <th>green_dom_color9</th>\n",
       "      <th>blue_dom_color9</th>\n",
       "      <th>weight_dom_color9</th>\n",
       "    </tr>\n",
       "  </thead>\n",
       "  <tbody>\n",
       "    <tr>\n",
       "      <th>0</th>\n",
       "      <td>1000</td>\n",
       "      <td>0.667188</td>\n",
       "      <td>1</td>\n",
       "      <td>0.199123</td>\n",
       "      <td>0.271816</td>\n",
       "      <td>0.371865</td>\n",
       "      <td>48.531470</td>\n",
       "      <td>36.073478</td>\n",
       "      <td>46.842777</td>\n",
       "      <td>0.261469</td>\n",
       "      <td>...</td>\n",
       "      <td>0.143347</td>\n",
       "      <td>0.031971</td>\n",
       "      <td>0.030897</td>\n",
       "      <td>0.375683</td>\n",
       "      <td>0.673309</td>\n",
       "      <td>0.043699</td>\n",
       "      <td>0.452279</td>\n",
       "      <td>0.529923</td>\n",
       "      <td>0.590956</td>\n",
       "      <td>0.044855</td>\n",
       "    </tr>\n",
       "    <tr>\n",
       "      <th>1</th>\n",
       "      <td>10000</td>\n",
       "      <td>1.319736</td>\n",
       "      <td>1</td>\n",
       "      <td>0.779949</td>\n",
       "      <td>0.779218</td>\n",
       "      <td>0.777672</td>\n",
       "      <td>56.022431</td>\n",
       "      <td>56.278342</td>\n",
       "      <td>56.366826</td>\n",
       "      <td>0.779306</td>\n",
       "      <td>...</td>\n",
       "      <td>0.555901</td>\n",
       "      <td>0.032253</td>\n",
       "      <td>0.606414</td>\n",
       "      <td>0.605481</td>\n",
       "      <td>0.600985</td>\n",
       "      <td>0.038587</td>\n",
       "      <td>0.382069</td>\n",
       "      <td>0.380722</td>\n",
       "      <td>0.376519</td>\n",
       "      <td>0.042227</td>\n",
       "    </tr>\n",
       "    <tr>\n",
       "      <th>2</th>\n",
       "      <td>10005</td>\n",
       "      <td>0.772727</td>\n",
       "      <td>0</td>\n",
       "      <td>0.145030</td>\n",
       "      <td>0.145030</td>\n",
       "      <td>0.145030</td>\n",
       "      <td>85.944494</td>\n",
       "      <td>85.944494</td>\n",
       "      <td>85.944494</td>\n",
       "      <td>0.145030</td>\n",
       "      <td>...</td>\n",
       "      <td>0.721242</td>\n",
       "      <td>0.002160</td>\n",
       "      <td>0.322807</td>\n",
       "      <td>0.322807</td>\n",
       "      <td>0.322807</td>\n",
       "      <td>0.002211</td>\n",
       "      <td>0.659941</td>\n",
       "      <td>0.659941</td>\n",
       "      <td>0.659941</td>\n",
       "      <td>0.002298</td>\n",
       "    </tr>\n",
       "    <tr>\n",
       "      <th>3</th>\n",
       "      <td>10010</td>\n",
       "      <td>1.777778</td>\n",
       "      <td>1</td>\n",
       "      <td>0.943396</td>\n",
       "      <td>0.369360</td>\n",
       "      <td>0.401235</td>\n",
       "      <td>44.115418</td>\n",
       "      <td>95.586132</td>\n",
       "      <td>85.899619</td>\n",
       "      <td>0.544297</td>\n",
       "      <td>...</td>\n",
       "      <td>0.534784</td>\n",
       "      <td>0.001066</td>\n",
       "      <td>0.566190</td>\n",
       "      <td>0.378674</td>\n",
       "      <td>0.322565</td>\n",
       "      <td>0.001541</td>\n",
       "      <td>0.505679</td>\n",
       "      <td>0.089081</td>\n",
       "      <td>0.061342</td>\n",
       "      <td>0.001569</td>\n",
       "    </tr>\n",
       "    <tr>\n",
       "      <th>4</th>\n",
       "      <td>10015</td>\n",
       "      <td>0.706250</td>\n",
       "      <td>1</td>\n",
       "      <td>0.628284</td>\n",
       "      <td>0.486499</td>\n",
       "      <td>0.436248</td>\n",
       "      <td>31.831054</td>\n",
       "      <td>36.820207</td>\n",
       "      <td>34.461763</td>\n",
       "      <td>0.523478</td>\n",
       "      <td>...</td>\n",
       "      <td>0.271857</td>\n",
       "      <td>0.014137</td>\n",
       "      <td>0.280988</td>\n",
       "      <td>0.152431</td>\n",
       "      <td>0.116449</td>\n",
       "      <td>0.015404</td>\n",
       "      <td>0.979414</td>\n",
       "      <td>0.748960</td>\n",
       "      <td>0.623834</td>\n",
       "      <td>0.016077</td>\n",
       "    </tr>\n",
       "  </tbody>\n",
       "</table>\n",
       "<p>5 rows × 55 columns</p>\n",
       "</div>"
      ],
      "text/plain": [
       "   creative_id  aspect_ratio  color  read_mean  green_mean  blue_mean  \\\n",
       "0         1000      0.667188      1   0.199123    0.271816   0.371865   \n",
       "1        10000      1.319736      1   0.779949    0.779218   0.777672   \n",
       "2        10005      0.772727      0   0.145030    0.145030   0.145030   \n",
       "3        10010      1.777778      1   0.943396    0.369360   0.401235   \n",
       "4        10015      0.706250      1   0.628284    0.486499   0.436248   \n",
       "\n",
       "     red_std  green_std   blue_std  brightness  ...  blue_dom_color7  \\\n",
       "0  48.531470  36.073478  46.842777    0.261469  ...         0.143347   \n",
       "1  56.022431  56.278342  56.366826    0.779306  ...         0.555901   \n",
       "2  85.944494  85.944494  85.944494    0.145030  ...         0.721242   \n",
       "3  44.115418  95.586132  85.899619    0.544297  ...         0.534784   \n",
       "4  31.831054  36.820207  34.461763    0.523478  ...         0.271857   \n",
       "\n",
       "   weight_dom_color7  red_dom_color8  green_dom_color8  blue_dom_color8  \\\n",
       "0           0.031971        0.030897          0.375683         0.673309   \n",
       "1           0.032253        0.606414          0.605481         0.600985   \n",
       "2           0.002160        0.322807          0.322807         0.322807   \n",
       "3           0.001066        0.566190          0.378674         0.322565   \n",
       "4           0.014137        0.280988          0.152431         0.116449   \n",
       "\n",
       "   weight_dom_color8  red_dom_color9  green_dom_color9  blue_dom_color9  \\\n",
       "0           0.043699        0.452279          0.529923         0.590956   \n",
       "1           0.038587        0.382069          0.380722         0.376519   \n",
       "2           0.002211        0.659941          0.659941         0.659941   \n",
       "3           0.001541        0.505679          0.089081         0.061342   \n",
       "4           0.015404        0.979414          0.748960         0.623834   \n",
       "\n",
       "   weight_dom_color9  \n",
       "0           0.044855  \n",
       "1           0.042227  \n",
       "2           0.002298  \n",
       "3           0.001569  \n",
       "4           0.016077  \n",
       "\n",
       "[5 rows x 55 columns]"
      ]
     },
     "execution_count": 9,
     "metadata": {},
     "output_type": "execute_result"
    }
   ],
   "source": [
    "creative_features.head()"
   ]
  },
  {
   "cell_type": "code",
   "execution_count": 26,
   "id": "a01c6825-46b7-4040-8ff9-9eaf326b1480",
   "metadata": {},
   "outputs": [],
   "source": [
    "creative_data = pd.merge(creative_data, creative_features, on='creative_id')"
   ]
  },
  {
   "cell_type": "code",
   "execution_count": 27,
   "id": "311f1691-ab77-444c-92fd-25da709463ae",
   "metadata": {},
   "outputs": [
    {
     "data": {
      "text/plain": [
       "Index(['creative_id', 'no_of_days', 'impressions', 'clicks', 'campaign_counts',\n",
       "       'no_of_days_min', 'impressions_min', 'clicks_min', 'no_of_days_max',\n",
       "       'impressions_max', 'clicks_max', 'week_day', 'no_of_week_end',\n",
       "       'Display_days', 'Mobile_days', 'Search_days', 'Social_days',\n",
       "       'Video_days', 'country', 'ctir', 'effectiveness_category',\n",
       "       'aspect_ratio', 'color', 'read_mean', 'green_mean', 'blue_mean',\n",
       "       'red_std', 'green_std', 'blue_std', 'brightness', 'contrast', 'entropy',\n",
       "       'warm_fraction', 'cool_fraction', 'saturation_mean', 'red_dom_color0',\n",
       "       'green_dom_color0', 'blue_dom_color0', 'weight_dom_color0',\n",
       "       'red_dom_color1', 'green_dom_color1', 'blue_dom_color1',\n",
       "       'weight_dom_color1', 'red_dom_color2', 'green_dom_color2',\n",
       "       'blue_dom_color2', 'weight_dom_color2', 'red_dom_color3',\n",
       "       'green_dom_color3', 'blue_dom_color3', 'weight_dom_color3',\n",
       "       'red_dom_color4', 'green_dom_color4', 'blue_dom_color4',\n",
       "       'weight_dom_color4', 'red_dom_color5', 'green_dom_color5',\n",
       "       'blue_dom_color5', 'weight_dom_color5', 'red_dom_color6',\n",
       "       'green_dom_color6', 'blue_dom_color6', 'weight_dom_color6',\n",
       "       'red_dom_color7', 'green_dom_color7', 'blue_dom_color7',\n",
       "       'weight_dom_color7', 'red_dom_color8', 'green_dom_color8',\n",
       "       'blue_dom_color8', 'weight_dom_color8', 'red_dom_color9',\n",
       "       'green_dom_color9', 'blue_dom_color9', 'weight_dom_color9'],\n",
       "      dtype='object')"
      ]
     },
     "execution_count": 27,
     "metadata": {},
     "output_type": "execute_result"
    }
   ],
   "source": [
    "creative_data.columns"
   ]
  },
  {
   "cell_type": "code",
   "execution_count": 39,
   "id": "b6d14952-4319-4c50-8b3b-1eaa3caef40c",
   "metadata": {},
   "outputs": [],
   "source": [
    "#split train/test\n",
    "\n",
    "random.seed(42)\n",
    "list_creative_ids = list(creative_data.index)\n",
    "random.shuffle(list_creative_ids)\n",
    "\n",
    "train_test_split_index = int(len(list_creative_ids) * 0.8)\n",
    "creative_ids_train = list_creative_ids[:train_test_split_index]\n",
    "creative_ids_test = list_creative_ids[train_test_split_index:]\n",
    "\n",
    "train_data = creative_data.loc[creative_ids_train]\n",
    "test_data = creative_data.loc[creative_ids_test]\n"
   ]
  },
  {
   "cell_type": "markdown",
   "id": "873b46d1-5ca3-47cc-9529-4afc5d62e8a1",
   "metadata": {},
   "source": [
    "Rather than regression of the metric we chose for effectiveness (CTIR), we are probably more interested in classification, or being able to predict if a creative will be effective or not. We defined already a category for this based on the CTIR. The thresholds were a bit arbritary, based on percentiles per country, but will be good enough for this exercise."
   ]
  },
  {
   "cell_type": "code",
   "execution_count": 29,
   "id": "fa2d62bb-438c-4f41-bceb-db9af51af7aa",
   "metadata": {},
   "outputs": [
    {
     "data": {
      "text/plain": [
       "effectiveness_category\n",
       "below_med      0.496791\n",
       "above_med      0.297818\n",
       "good           0.154899\n",
       "exceptional    0.050492\n",
       "Name: count, dtype: float64"
      ]
     },
     "execution_count": 29,
     "metadata": {},
     "output_type": "execute_result"
    }
   ],
   "source": [
    "train_data.effectiveness_category.value_counts() / len(train_data)"
   ]
  },
  {
   "cell_type": "code",
   "execution_count": 30,
   "id": "778a0327-a17f-4137-805a-85fa03e68af2",
   "metadata": {},
   "outputs": [
    {
     "data": {
      "text/plain": [
       "effectiveness_category\n",
       "below_med      0.509402\n",
       "above_med      0.307692\n",
       "good           0.129915\n",
       "exceptional    0.052991\n",
       "Name: count, dtype: float64"
      ]
     },
     "execution_count": 30,
     "metadata": {},
     "output_type": "execute_result"
    }
   ],
   "source": [
    "test_data.effectiveness_category.value_counts() / len(test_data)"
   ]
  },
  {
   "cell_type": "markdown",
   "id": "955f2047-c295-4c9b-a255-b3963a5d1bb4",
   "metadata": {},
   "source": [
    "Thanks to the random split, the statistics of the category are practically equal between train and test datasets.\n",
    "Let us reduce further the categories first and group together below and above med as 0 and good and exceptional as 1 for a binary class, which will be the target, \"effective\""
   ]
  },
  {
   "cell_type": "code",
   "execution_count": 40,
   "id": "ac8e398d-f630-4843-83cf-7c67a4bf2fde",
   "metadata": {},
   "outputs": [],
   "source": [
    "train_data['effective'] = train_data.effectiveness_category.isin(['good', 'exceptional']).astype(int)\n",
    "test_data['effective'] = test_data.effectiveness_category.isin(['good', 'exceptional']).astype(int)"
   ]
  },
  {
   "cell_type": "code",
   "execution_count": 37,
   "id": "75fb9a71-48a9-4288-9448-242f329c6cc1",
   "metadata": {},
   "outputs": [],
   "source": [
    "from sklearn.metrics import accuracy_score, roc_auc_score, precision_score, recall_score, f1_score\n",
    "from sklearn.preprocessing import LabelEncoder\n",
    "import lightgbm as lgb"
   ]
  },
  {
   "cell_type": "code",
   "execution_count": 60,
   "id": "e3abc429-dcb1-4955-b9bc-f62fb5a1aacd",
   "metadata": {},
   "outputs": [
    {
     "name": "stdout",
     "output_type": "stream",
     "text": [
      "Accuracy: 0.7932\n",
      "ROC AUC: 0.4729\n",
      "Precision: 0.1818\n",
      "Recall: 0.0374\n",
      "F1 Score: 0.0620\n"
     ]
    }
   ],
   "source": [
    "features = [#'no_of_days', 'no_of_week_end',\n",
    "       #'Display_days', 'Mobile_days', 'Search_days', 'Social_days',\n",
    "       #'Video_days',\n",
    "       'encoded_country',\n",
    "       'aspect_ratio', 'color', 'read_mean', 'green_mean', 'blue_mean',\n",
    "       'red_std', 'green_std', 'blue_std', 'brightness', 'contrast', 'entropy',\n",
    "       'warm_fraction', 'cool_fraction', 'saturation_mean', 'red_dom_color0',\n",
    "       'green_dom_color0', 'blue_dom_color0', 'weight_dom_color0',\n",
    "       'red_dom_color1', 'green_dom_color1', 'blue_dom_color1',\n",
    "       'weight_dom_color1', 'red_dom_color2', 'green_dom_color2',\n",
    "       'blue_dom_color2', 'weight_dom_color2', 'red_dom_color3',\n",
    "       'green_dom_color3', 'blue_dom_color3', 'weight_dom_color3',\n",
    "       'red_dom_color4', 'green_dom_color4', 'blue_dom_color4',\n",
    "       'weight_dom_color4', 'red_dom_color5', 'green_dom_color5',\n",
    "       'blue_dom_color5', 'weight_dom_color5', 'red_dom_color6',\n",
    "       'green_dom_color6', 'blue_dom_color6', 'weight_dom_color6',\n",
    "       'red_dom_color7', 'green_dom_color7', 'blue_dom_color7',\n",
    "       'weight_dom_color7', 'red_dom_color8', 'green_dom_color8',\n",
    "       'blue_dom_color8', 'weight_dom_color8', 'red_dom_color9',\n",
    "       'green_dom_color9', 'blue_dom_color9', 'weight_dom_color9']\n",
    "target = 'effective'\n",
    "\n",
    "label_encoder = LabelEncoder()\n",
    "train_data['encoded_country'] = label_encoder.fit_transform(train_data['country'])\n",
    "test_data['encoded_country'] = label_encoder.transform(test_data['country'])\n",
    "\n",
    "X_train = train_data[features]\n",
    "y_train = train_data[target]\n",
    "X_test = test_data[features]\n",
    "y_test = test_data[target]\n",
    "\n",
    "train_lgb = lgb.Dataset(X_train, label=y_train)\n",
    "#test_lgb = lgb.Dataset(X_test, label=y_test)\n",
    "\n",
    "# LightGBM parameters\n",
    "params = {\n",
    "    'objective': 'binary',  # Binary classification\n",
    "    'metric': 'auc',#'binary_logloss',\n",
    "    'learning_rate': 0.05,\n",
    "    'num_leaves': 31,\n",
    "    'verbose': -1\n",
    "}\n",
    "\n",
    "\n",
    "# Train the model\n",
    "model_effective = lgb.train(params, train_lgb,\n",
    "                  num_boost_round=1000, valid_sets=[train_lgb, train_lgb])\n",
    "\n",
    "y_pred_proba = model_effective.predict(X_test)\n",
    "\n",
    "y_pred = (y_pred_proba >= 0.5).astype(int)\n",
    "\n",
    "accuracy = accuracy_score(y_test, y_pred)\n",
    "roc_auc = roc_auc_score(y_test, y_pred_proba)  # Use probabilities for AUC\n",
    "precision = precision_score(y_test, y_pred)\n",
    "recall = recall_score(y_test, y_pred)\n",
    "f1 = f1_score(y_test, y_pred)\n",
    "print(f\"Accuracy: {accuracy:.4f}\")\n",
    "print(f\"ROC AUC: {roc_auc:.4f}\")\n",
    "print(f\"Precision: {precision:.4f}\")\n",
    "print(f\"Recall: {recall:.4f}\")\n",
    "print(f\"F1 Score: {f1:.4f}\")"
   ]
  },
  {
   "cell_type": "code",
   "execution_count": 62,
   "id": "df59b806-1a01-492f-a6db-12ad481ad6e6",
   "metadata": {},
   "outputs": [
    {
     "name": "stdout",
     "output_type": "stream",
     "text": [
      "Accuracy: 0.7983\n",
      "ROC AUC: 0.4729\n",
      "Precision: 0.1333\n",
      "Recall: 0.0187\n",
      "F1 Score: 0.0328\n"
     ]
    }
   ],
   "source": [
    "y_pred = (y_pred_proba >= 0.7).astype(int)\n",
    "\n",
    "accuracy = accuracy_score(y_test, y_pred)\n",
    "roc_auc = roc_auc_score(y_test, y_pred_proba)  # Use probabilities for AUC\n",
    "precision = precision_score(y_test, y_pred)\n",
    "recall = recall_score(y_test, y_pred)\n",
    "f1 = f1_score(y_test, y_pred)\n",
    "print(f\"Accuracy: {accuracy:.4f}\")\n",
    "print(f\"ROC AUC: {roc_auc:.4f}\")\n",
    "print(f\"Precision: {precision:.4f}\")\n",
    "print(f\"Recall: {recall:.4f}\")\n",
    "print(f\"F1 Score: {f1:.4f}\")"
   ]
  },
  {
   "cell_type": "code",
   "execution_count": 63,
   "id": "9d6780d0-e968-484f-a0d7-51a9a3eec3e9",
   "metadata": {},
   "outputs": [
    {
     "name": "stdout",
     "output_type": "stream",
     "text": [
      "Accuracy: 0.4923\n",
      "ROC AUC: 0.5000\n",
      "Precision: 0.1747\n",
      "Recall: 0.4766\n",
      "F1 Score: 0.2556\n"
     ]
    }
   ],
   "source": [
    "y_random = np.random.randint(0, 2, size=len(y_test))\n",
    "accuracy = accuracy_score(y_test, y_random)\n",
    "roc_auc = roc_auc_score(y_test, np.ones(len(y_test)) * 0.5)  # Use probabilities for AUC\n",
    "precision = precision_score(y_test, y_random)\n",
    "recall = recall_score(y_test, y_random)\n",
    "f1 = f1_score(y_test, y_random)\n",
    "print(f\"Accuracy: {accuracy:.4f}\")\n",
    "print(f\"ROC AUC: {roc_auc:.4f}\")\n",
    "print(f\"Precision: {precision:.4f}\")\n",
    "print(f\"Recall: {recall:.4f}\")\n",
    "print(f\"F1 Score: {f1:.4f}\")"
   ]
  },
  {
   "cell_type": "code",
   "execution_count": 64,
   "id": "f93012c8-b891-4622-a603-19d4ca14f7df",
   "metadata": {},
   "outputs": [
    {
     "name": "stdout",
     "output_type": "stream",
     "text": [
      "Accuracy: 0.8171\n",
      "ROC AUC: 0.5000\n",
      "Precision: 0.0000\n",
      "Recall: 0.0000\n",
      "F1 Score: 0.0000\n"
     ]
    },
    {
     "name": "stderr",
     "output_type": "stream",
     "text": [
      "C:\\Users\\david\\projects\\smartassets_challenge\\.venv\\Lib\\site-packages\\sklearn\\metrics\\_classification.py:1531: UndefinedMetricWarning: Precision is ill-defined and being set to 0.0 due to no predicted samples. Use `zero_division` parameter to control this behavior.\n",
      "  _warn_prf(average, modifier, f\"{metric.capitalize()} is\", len(result))\n"
     ]
    }
   ],
   "source": [
    "y_0 = np.zeros(len(y_test))\n",
    "accuracy = accuracy_score(y_test, y_0)\n",
    "roc_auc = roc_auc_score(y_test, np.ones(len(y_test)))  # Use probabilities for AUC\n",
    "precision = precision_score(y_test, y_0)\n",
    "recall = recall_score(y_test, y_0)\n",
    "f1 = f1_score(y_test, y_0)\n",
    "print(f\"Accuracy: {accuracy:.4f}\")\n",
    "print(f\"ROC AUC: {roc_auc:.4f}\")\n",
    "print(f\"Precision: {precision:.4f}\")\n",
    "print(f\"Recall: {recall:.4f}\")\n",
    "print(f\"F1 Score: {f1:.4f}\")"
   ]
  },
  {
   "cell_type": "code",
   "execution_count": 65,
   "id": "9b7dc18b-42a2-4da7-b502-2510ab87fc14",
   "metadata": {},
   "outputs": [
    {
     "data": {
      "text/plain": [
       "<Axes: >"
      ]
     },
     "execution_count": 65,
     "metadata": {},
     "output_type": "execute_result"
    },
    {
     "data": {
      "image/png": "[encoded data removed]",
      "text/plain": [
       "<Figure size 640x480 with 1 Axes>"
      ]
     },
     "metadata": {},
     "output_type": "display_data"
    }
   ],
   "source": [
    "feature_importances = model_effective.feature_importance()\n",
    "\n",
    "importance_df = pd.Series(index=features, data=feature_importances, name='feature importance')\n",
    "\n",
    "top_10_features = importance_df.sort_values(ascending=False).head(10).sort_values()\n",
    "\n",
    "# Plot the top 10 features\n",
    "top_10_features.plot.barh(color='skyblue')\n"
   ]
  },
  {
   "cell_type": "markdown",
   "id": "73687933-565d-48b6-9a8c-bad5cc207a72",
   "metadata": {},
   "source": [
    "## Using modern feat"
   ]
  },
  {
   "cell_type": "code",
   "execution_count": null,
   "id": "672cc23b-2530-4cb1-89ce-95feab413242",
   "metadata": {},
   "outputs": [],
   "source": [
    "with open('data/features/output_features_gvlab_vit6b.json', 'r') as jfile:\n",
    "    dict_features = json.load(jfile)"
   ]
  }
 ],
 "metadata": {
  "kernelspec": {
   "display_name": "smartassets_challenge",
   "language": "python",
   "name": "smartassets_challenge"
  },
  "language_info": {
   "codemirror_mode": {
    "name": "ipython",
    "version": 3
   },
   "file_extension": ".py",
   "mimetype": "text/x-python",
   "name": "python",
   "nbconvert_exporter": "python",
   "pygments_lexer": "ipython3",
   "version": "3.12.6"
  }
 },
 "nbformat": 4,
 "nbformat_minor": 5
}
